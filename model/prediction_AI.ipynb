{
 "cells": [
  {
   "cell_type": "code",
   "execution_count": 1,
   "id": "773e84f1",
   "metadata": {},
   "outputs": [],
   "source": [
    "import numpy as np\n",
    "import pandas as pd\n",
    "import matplotlib.pyplot as plt\n",
    "import seaborn as sns\n",
    "%matplotlib inline\n",
    "import warnings\n",
    "warnings.filterwarnings(\"ignore\")"
   ]
  },
  {
   "cell_type": "markdown",
   "id": "e6c0fdf6",
   "metadata": {},
   "source": [
    "Importing some basic data analysis and visualization Python libraries."
   ]
  },
  {
   "cell_type": "markdown",
   "id": "e90b6543",
   "metadata": {},
   "source": [
    "### EXPLORATORY DATA ANALYSIS\n",
    "First we load our dataset and store it in pandas dataframe.<br>\n",
    "Here, we can observe different columns. Most of them have continuous values whereas some columns like target, cp, restecg, fbs, exang, slope, ca, thal look like they have categorical values.<br>\n",
    "One of the earliest things that can be observed are the unusual column names that don't give our much information. So, we renamed the columns so that they give out better information with reference to the source of the dataset(https://archive.ics.uci.edu/ml/datasets/Heart+Disease)."
   ]
  },
  {
   "cell_type": "code",
   "execution_count": 2,
   "id": "7a0b101a",
   "metadata": {},
   "outputs": [
    {
     "data": {
      "text/html": [
       "<div>\n",
       "<style scoped>\n",
       "    .dataframe tbody tr th:only-of-type {\n",
       "        vertical-align: middle;\n",
       "    }\n",
       "\n",
       "    .dataframe tbody tr th {\n",
       "        vertical-align: top;\n",
       "    }\n",
       "\n",
       "    .dataframe thead th {\n",
       "        text-align: right;\n",
       "    }\n",
       "</style>\n",
       "<table border=\"1\" class=\"dataframe\">\n",
       "  <thead>\n",
       "    <tr style=\"text-align: right;\">\n",
       "      <th></th>\n",
       "      <th>age</th>\n",
       "      <th>sex</th>\n",
       "      <th>cp</th>\n",
       "      <th>trestbps</th>\n",
       "      <th>chol</th>\n",
       "      <th>fbs</th>\n",
       "      <th>restecg</th>\n",
       "      <th>thalach</th>\n",
       "      <th>exang</th>\n",
       "      <th>oldpeak</th>\n",
       "      <th>slope</th>\n",
       "      <th>ca</th>\n",
       "      <th>thal</th>\n",
       "      <th>target</th>\n",
       "    </tr>\n",
       "  </thead>\n",
       "  <tbody>\n",
       "    <tr>\n",
       "      <th>0</th>\n",
       "      <td>63</td>\n",
       "      <td>1</td>\n",
       "      <td>3</td>\n",
       "      <td>145</td>\n",
       "      <td>233</td>\n",
       "      <td>1</td>\n",
       "      <td>0</td>\n",
       "      <td>150</td>\n",
       "      <td>0</td>\n",
       "      <td>2.3</td>\n",
       "      <td>0</td>\n",
       "      <td>0</td>\n",
       "      <td>1</td>\n",
       "      <td>1</td>\n",
       "    </tr>\n",
       "    <tr>\n",
       "      <th>1</th>\n",
       "      <td>37</td>\n",
       "      <td>1</td>\n",
       "      <td>2</td>\n",
       "      <td>130</td>\n",
       "      <td>250</td>\n",
       "      <td>0</td>\n",
       "      <td>1</td>\n",
       "      <td>187</td>\n",
       "      <td>0</td>\n",
       "      <td>3.5</td>\n",
       "      <td>0</td>\n",
       "      <td>0</td>\n",
       "      <td>2</td>\n",
       "      <td>1</td>\n",
       "    </tr>\n",
       "    <tr>\n",
       "      <th>2</th>\n",
       "      <td>41</td>\n",
       "      <td>0</td>\n",
       "      <td>1</td>\n",
       "      <td>130</td>\n",
       "      <td>204</td>\n",
       "      <td>0</td>\n",
       "      <td>0</td>\n",
       "      <td>172</td>\n",
       "      <td>0</td>\n",
       "      <td>1.4</td>\n",
       "      <td>2</td>\n",
       "      <td>0</td>\n",
       "      <td>2</td>\n",
       "      <td>1</td>\n",
       "    </tr>\n",
       "    <tr>\n",
       "      <th>3</th>\n",
       "      <td>56</td>\n",
       "      <td>1</td>\n",
       "      <td>1</td>\n",
       "      <td>120</td>\n",
       "      <td>236</td>\n",
       "      <td>0</td>\n",
       "      <td>1</td>\n",
       "      <td>178</td>\n",
       "      <td>0</td>\n",
       "      <td>0.8</td>\n",
       "      <td>2</td>\n",
       "      <td>0</td>\n",
       "      <td>2</td>\n",
       "      <td>1</td>\n",
       "    </tr>\n",
       "    <tr>\n",
       "      <th>4</th>\n",
       "      <td>57</td>\n",
       "      <td>0</td>\n",
       "      <td>0</td>\n",
       "      <td>120</td>\n",
       "      <td>354</td>\n",
       "      <td>0</td>\n",
       "      <td>1</td>\n",
       "      <td>163</td>\n",
       "      <td>1</td>\n",
       "      <td>0.6</td>\n",
       "      <td>2</td>\n",
       "      <td>0</td>\n",
       "      <td>2</td>\n",
       "      <td>1</td>\n",
       "    </tr>\n",
       "  </tbody>\n",
       "</table>\n",
       "</div>"
      ],
      "text/plain": [
       "   age  sex  cp  trestbps  chol  fbs  restecg  thalach  exang  oldpeak  slope  \\\n",
       "0   63    1   3       145   233    1        0      150      0      2.3      0   \n",
       "1   37    1   2       130   250    0        1      187      0      3.5      0   \n",
       "2   41    0   1       130   204    0        0      172      0      1.4      2   \n",
       "3   56    1   1       120   236    0        1      178      0      0.8      2   \n",
       "4   57    0   0       120   354    0        1      163      1      0.6      2   \n",
       "\n",
       "   ca  thal  target  \n",
       "0   0     1       1  \n",
       "1   0     2       1  \n",
       "2   0     2       1  \n",
       "3   0     2       1  \n",
       "4   0     2       1  "
      ]
     },
     "execution_count": 2,
     "metadata": {},
     "output_type": "execute_result"
    }
   ],
   "source": [
    "data = pd.read_csv('heart.csv')\n",
    "data.head()"
   ]
  },
  {
   "cell_type": "code",
   "execution_count": 3,
   "id": "507ed41a",
   "metadata": {},
   "outputs": [],
   "source": [
    "data.rename(columns ={'cp':'chest_pain_type','trestbps':'rest_blood_pressure','chol':'cholesterol','fbs':'fasting_blood_sugar',\n",
    "                    'restecg':'results_ecg','thalach':'maximum_heart_rate','exang':'exercise_induced_angina',\n",
    "                    'oldpeak':'st_depression','ca':'major_vessels','thal':'thalassemia_types','target':'heart_complications',\n",
    "                    'slope':'st_slope'}, inplace = True)"
   ]
  },
  {
   "cell_type": "code",
   "execution_count": 4,
   "id": "4107a9a7",
   "metadata": {},
   "outputs": [
    {
     "name": "stdout",
     "output_type": "stream",
     "text": [
      "<class 'pandas.core.frame.DataFrame'>\n",
      "RangeIndex: 303 entries, 0 to 302\n",
      "Data columns (total 14 columns):\n",
      " #   Column                   Non-Null Count  Dtype  \n",
      "---  ------                   --------------  -----  \n",
      " 0   age                      303 non-null    int64  \n",
      " 1   sex                      303 non-null    int64  \n",
      " 2   chest_pain_type          303 non-null    int64  \n",
      " 3   rest_blood_pressure      303 non-null    int64  \n",
      " 4   cholesterol              303 non-null    int64  \n",
      " 5   fasting_blood_sugar      303 non-null    int64  \n",
      " 6   results_ecg              303 non-null    int64  \n",
      " 7   maximum_heart_rate       303 non-null    int64  \n",
      " 8   exercise_induced_angina  303 non-null    int64  \n",
      " 9   st_depression            303 non-null    float64\n",
      " 10  st_slope                 303 non-null    int64  \n",
      " 11  major_vessels            303 non-null    int64  \n",
      " 12  thalassemia_types        303 non-null    int64  \n",
      " 13  heart_complications      303 non-null    int64  \n",
      "dtypes: float64(1), int64(13)\n",
      "memory usage: 33.3 KB\n"
     ]
    }
   ],
   "source": [
    "data.info()"
   ]
  },
  {
   "cell_type": "code",
   "execution_count": 5,
   "id": "cb8b25bf",
   "metadata": {},
   "outputs": [
    {
     "data": {
      "text/html": [
       "<div>\n",
       "<style scoped>\n",
       "    .dataframe tbody tr th:only-of-type {\n",
       "        vertical-align: middle;\n",
       "    }\n",
       "\n",
       "    .dataframe tbody tr th {\n",
       "        vertical-align: top;\n",
       "    }\n",
       "\n",
       "    .dataframe thead th {\n",
       "        text-align: right;\n",
       "    }\n",
       "</style>\n",
       "<table border=\"1\" class=\"dataframe\">\n",
       "  <thead>\n",
       "    <tr style=\"text-align: right;\">\n",
       "      <th></th>\n",
       "      <th>age</th>\n",
       "      <th>sex</th>\n",
       "      <th>chest_pain_type</th>\n",
       "      <th>rest_blood_pressure</th>\n",
       "      <th>cholesterol</th>\n",
       "      <th>fasting_blood_sugar</th>\n",
       "      <th>results_ecg</th>\n",
       "      <th>maximum_heart_rate</th>\n",
       "      <th>exercise_induced_angina</th>\n",
       "      <th>st_depression</th>\n",
       "      <th>st_slope</th>\n",
       "      <th>major_vessels</th>\n",
       "      <th>thalassemia_types</th>\n",
       "      <th>heart_complications</th>\n",
       "    </tr>\n",
       "  </thead>\n",
       "  <tbody>\n",
       "    <tr>\n",
       "      <th>0</th>\n",
       "      <td>63</td>\n",
       "      <td>1</td>\n",
       "      <td>3</td>\n",
       "      <td>145</td>\n",
       "      <td>233</td>\n",
       "      <td>1</td>\n",
       "      <td>0</td>\n",
       "      <td>150</td>\n",
       "      <td>0</td>\n",
       "      <td>2.3</td>\n",
       "      <td>0</td>\n",
       "      <td>0</td>\n",
       "      <td>1</td>\n",
       "      <td>1</td>\n",
       "    </tr>\n",
       "    <tr>\n",
       "      <th>1</th>\n",
       "      <td>37</td>\n",
       "      <td>1</td>\n",
       "      <td>2</td>\n",
       "      <td>130</td>\n",
       "      <td>250</td>\n",
       "      <td>0</td>\n",
       "      <td>1</td>\n",
       "      <td>187</td>\n",
       "      <td>0</td>\n",
       "      <td>3.5</td>\n",
       "      <td>0</td>\n",
       "      <td>0</td>\n",
       "      <td>2</td>\n",
       "      <td>1</td>\n",
       "    </tr>\n",
       "    <tr>\n",
       "      <th>2</th>\n",
       "      <td>41</td>\n",
       "      <td>0</td>\n",
       "      <td>1</td>\n",
       "      <td>130</td>\n",
       "      <td>204</td>\n",
       "      <td>0</td>\n",
       "      <td>0</td>\n",
       "      <td>172</td>\n",
       "      <td>0</td>\n",
       "      <td>1.4</td>\n",
       "      <td>2</td>\n",
       "      <td>0</td>\n",
       "      <td>2</td>\n",
       "      <td>1</td>\n",
       "    </tr>\n",
       "    <tr>\n",
       "      <th>3</th>\n",
       "      <td>56</td>\n",
       "      <td>1</td>\n",
       "      <td>1</td>\n",
       "      <td>120</td>\n",
       "      <td>236</td>\n",
       "      <td>0</td>\n",
       "      <td>1</td>\n",
       "      <td>178</td>\n",
       "      <td>0</td>\n",
       "      <td>0.8</td>\n",
       "      <td>2</td>\n",
       "      <td>0</td>\n",
       "      <td>2</td>\n",
       "      <td>1</td>\n",
       "    </tr>\n",
       "    <tr>\n",
       "      <th>4</th>\n",
       "      <td>57</td>\n",
       "      <td>0</td>\n",
       "      <td>0</td>\n",
       "      <td>120</td>\n",
       "      <td>354</td>\n",
       "      <td>0</td>\n",
       "      <td>1</td>\n",
       "      <td>163</td>\n",
       "      <td>1</td>\n",
       "      <td>0.6</td>\n",
       "      <td>2</td>\n",
       "      <td>0</td>\n",
       "      <td>2</td>\n",
       "      <td>1</td>\n",
       "    </tr>\n",
       "  </tbody>\n",
       "</table>\n",
       "</div>"
      ],
      "text/plain": [
       "   age  sex  chest_pain_type  rest_blood_pressure  cholesterol  \\\n",
       "0   63    1                3                  145          233   \n",
       "1   37    1                2                  130          250   \n",
       "2   41    0                1                  130          204   \n",
       "3   56    1                1                  120          236   \n",
       "4   57    0                0                  120          354   \n",
       "\n",
       "   fasting_blood_sugar  results_ecg  maximum_heart_rate  \\\n",
       "0                    1            0                 150   \n",
       "1                    0            1                 187   \n",
       "2                    0            0                 172   \n",
       "3                    0            1                 178   \n",
       "4                    0            1                 163   \n",
       "\n",
       "   exercise_induced_angina  st_depression  st_slope  major_vessels  \\\n",
       "0                        0            2.3         0              0   \n",
       "1                        0            3.5         0              0   \n",
       "2                        0            1.4         2              0   \n",
       "3                        0            0.8         2              0   \n",
       "4                        1            0.6         2              0   \n",
       "\n",
       "   thalassemia_types  heart_complications  \n",
       "0                  1                    1  \n",
       "1                  2                    1  \n",
       "2                  2                    1  \n",
       "3                  2                    1  \n",
       "4                  2                    1  "
      ]
     },
     "execution_count": 5,
     "metadata": {},
     "output_type": "execute_result"
    }
   ],
   "source": [
    "data.head()"
   ]
  },
  {
   "cell_type": "markdown",
   "id": "d030af7b",
   "metadata": {},
   "source": [
    "We use the .info() method of DataFrame to take a more detailed look into our columns. Here, it can be seen that all the columns have numeric datatypes and there are no rows with null values. So, there is no need to imputate the data."
   ]
  },
  {
   "cell_type": "markdown",
   "id": "d3950017",
   "metadata": {},
   "source": [
    "### Data Visualization"
   ]
  },
  {
   "cell_type": "markdown",
   "id": "402180ec",
   "metadata": {},
   "source": [
    "**Scatterplots**"
   ]
  },
  {
   "cell_type": "code",
   "execution_count": 6,
   "id": "12954d5a",
   "metadata": {
    "scrolled": false
   },
   "outputs": [
    {
     "name": "stdout",
     "output_type": "stream",
     "text": [
      "Minimum: 29\n",
      "Maximum: 77\n"
     ]
    },
    {
     "data": {
      "image/png": "[encoded data removed]",
      "text/plain": [
       "<Figure size 432x288 with 1 Axes>"
      ]
     },
     "metadata": {
      "needs_background": "light"
     },
     "output_type": "display_data"
    },
    {
     "name": "stdout",
     "output_type": "stream",
     "text": [
      "Minimum: 0\n",
      "Maximum: 1\n"
     ]
    },
    {
     "data": {
      "image/png": "[encoded data removed]",
      "text/plain": [
       "<Figure size 432x288 with 1 Axes>"
      ]
     },
     "metadata": {
      "needs_background": "light"
     },
     "output_type": "display_data"
    },
    {
     "name": "stdout",
     "output_type": "stream",
     "text": [
      "Minimum: 0\n",
      "Maximum: 3\n"
     ]
    },
    {
     "data": {
      "image/png": "[encoded data removed]",
      "text/plain": [
       "<Figure size 432x288 with 1 Axes>"
      ]
     },
     "metadata": {
      "needs_background": "light"
     },
     "output_type": "display_data"
    },
    {
     "name": "stdout",
     "output_type": "stream",
     "text": [
      "Minimum: 94\n",
      "Maximum: 200\n"
     ]
    },
    {
     "data": {
      "image/png": "[encoded data removed]",
      "text/plain": [
       "<Figure size 432x288 with 1 Axes>"
      ]
     },
     "metadata": {
      "needs_background": "light"
     },
     "output_type": "display_data"
    },
    {
     "name": "stdout",
     "output_type": "stream",
     "text": [
      "Minimum: 126\n",
      "Maximum: 564\n"
     ]
    },
    {
     "data": {
      "image/png": "[encoded data removed]",
      "text/plain": [
       "<Figure size 432x288 with 1 Axes>"
      ]
     },
     "metadata": {
      "needs_background": "light"
     },
     "output_type": "display_data"
    },
    {
     "name": "stdout",
     "output_type": "stream",
     "text": [
      "Minimum: 0\n",
      "Maximum: 1\n"
     ]
    },
    {
     "data": {
      "image/png": "[encoded data removed]",
      "text/plain": [
       "<Figure size 432x288 with 1 Axes>"
      ]
     },
     "metadata": {
      "needs_background": "light"
     },
     "output_type": "display_data"
    },
    {
     "name": "stdout",
     "output_type": "stream",
     "text": [
      "Minimum: 0\n",
      "Maximum: 2\n"
     ]
    },
    {
     "data": {
      "image/png": "[encoded data removed]",
      "text/plain": [
       "<Figure size 432x288 with 1 Axes>"
      ]
     },
     "metadata": {
      "needs_background": "light"
     },
     "output_type": "display_data"
    },
    {
     "name": "stdout",
     "output_type": "stream",
     "text": [
      "Minimum: 71\n",
      "Maximum: 202\n"
     ]
    },
    {
     "data": {
      "image/png": "[encoded data removed]",
      "text/plain": [
       "<Figure size 432x288 with 1 Axes>"
      ]
     },
     "metadata": {
      "needs_background": "light"
     },
     "output_type": "display_data"
    },
    {
     "name": "stdout",
     "output_type": "stream",
     "text": [
      "Minimum: 0\n",
      "Maximum: 1\n"
     ]
    },
    {
     "data": {
      "image/png": "[encoded data removed]",
      "text/plain": [
       "<Figure size 432x288 with 1 Axes>"
      ]
     },
     "metadata": {
      "needs_background": "light"
     },
     "output_type": "display_data"
    },
    {
     "name": "stdout",
     "output_type": "stream",
     "text": [
      "Minimum: 0.0\n",
      "Maximum: 6.2\n"
     ]
    },
    {
     "data": {
      "image/png": "[encoded data removed]",
      "text/plain": [
       "<Figure size 432x288 with 1 Axes>"
      ]
     },
     "metadata": {
      "needs_background": "light"
     },
     "output_type": "display_data"
    },
    {
     "name": "stdout",
     "output_type": "stream",
     "text": [
      "Minimum: 0\n",
      "Maximum: 2\n"
     ]
    },
    {
     "data": {
      "image/png": "[encoded data removed]",
      "text/plain": [
       "<Figure size 432x288 with 1 Axes>"
      ]
     },
     "metadata": {
      "needs_background": "light"
     },
     "output_type": "display_data"
    },
    {
     "name": "stdout",
     "output_type": "stream",
     "text": [
      "Minimum: 0\n",
      "Maximum: 4\n"
     ]
    },
    {
     "data": {
      "image/png": "[encoded data removed]",
      "text/plain": [
       "<Figure size 432x288 with 1 Axes>"
      ]
     },
     "metadata": {
      "needs_background": "light"
     },
     "output_type": "display_data"
    },
    {
     "name": "stdout",
     "output_type": "stream",
     "text": [
      "Minimum: 0\n",
      "Maximum: 3\n"
     ]
    },
    {
     "data": {
      "image/png": "[encoded data removed]",
      "text/plain": [
       "<Figure size 432x288 with 1 Axes>"
      ]
     },
     "metadata": {
      "needs_background": "light"
     },
     "output_type": "display_data"
    }
   ],
   "source": [
    "for i in data.columns.drop('heart_complications'):\n",
    "  print(f\"Minimum: {data[i].min()}\")\n",
    "  print(f\"Maximum: {data[i].max()}\")\n",
    "  plt.scatter(x=data[i],y=data['heart_complications'],alpha=0.1)\n",
    "  plt.title(f\"{i.capitalize()} vs Heart Complications\",fontsize=15)\n",
    "  plt.xlabel(i.capitalize(),fontsize=10)\n",
    "  plt.ylabel('Heart Complications',fontsize=10)\n",
    "  plt.yticks([0,1])\n",
    "  plt.show()"
   ]
  },
  {
   "cell_type": "markdown",
   "id": "bcf3fc37",
   "metadata": {},
   "source": [
    "**Joinplots**"
   ]
  },
  {
   "cell_type": "code",
   "execution_count": 7,
   "id": "160536a7",
   "metadata": {},
   "outputs": [
    {
     "data": {
      "text/plain": [
       "<seaborn.axisgrid.JointGrid at 0x2aef10d19a0>"
      ]
     },
     "execution_count": 7,
     "metadata": {},
     "output_type": "execute_result"
    },
    {
     "data": {
      "image/png": "[encoded data removed]",
      "text/plain": [
       "<Figure size 432x432 with 3 Axes>"
      ]
     },
     "metadata": {
      "needs_background": "light"
     },
     "output_type": "display_data"
    }
   ],
   "source": [
    "sns.jointplot(data=data, x=\"heart_complications\", y=\"maximum_heart_rate\", hue=\"heart_complications\")"
   ]
  },
  {
   "cell_type": "code",
   "execution_count": 8,
   "id": "dc34f80d",
   "metadata": {},
   "outputs": [
    {
     "data": {
      "text/plain": [
       "<seaborn.axisgrid.JointGrid at 0x2aef233bf70>"
      ]
     },
     "execution_count": 8,
     "metadata": {},
     "output_type": "execute_result"
    },
    {
     "data": {
      "image/png": "[encoded data removed]",
      "text/plain": [
       "<Figure size 432x432 with 3 Axes>"
      ]
     },
     "metadata": {
      "needs_background": "light"
     },
     "output_type": "display_data"
    }
   ],
   "source": [
    "sns.jointplot(data=data, x=\"heart_complications\", y=\"chest_pain_type\", hue=\"chest_pain_type\")"
   ]
  },
  {
   "cell_type": "markdown",
   "id": "d75266bc",
   "metadata": {},
   "source": [
    "### Data Cleaning and ML Training"
   ]
  },
  {
   "cell_type": "code",
   "execution_count": 9,
   "id": "e0dbb672",
   "metadata": {},
   "outputs": [
    {
     "data": {
      "text/plain": [
       "age                        0\n",
       "sex                        0\n",
       "chest_pain_type            0\n",
       "rest_blood_pressure        0\n",
       "cholesterol                0\n",
       "fasting_blood_sugar        0\n",
       "results_ecg                0\n",
       "maximum_heart_rate         0\n",
       "exercise_induced_angina    0\n",
       "st_depression              0\n",
       "st_slope                   0\n",
       "major_vessels              0\n",
       "thalassemia_types          0\n",
       "heart_complications        0\n",
       "dtype: int64"
      ]
     },
     "execution_count": 9,
     "metadata": {},
     "output_type": "execute_result"
    }
   ],
   "source": [
    "data.drop_duplicates(inplace=True) #Dropping the duplicates\n",
    "data.isnull().sum()"
   ]
  },
  {
   "cell_type": "markdown",
   "id": "25651848",
   "metadata": {},
   "source": [
    "Since there are no null values in the dataset, no data imputation is required."
   ]
  },
  {
   "cell_type": "code",
   "execution_count": 10,
   "id": "85486447",
   "metadata": {},
   "outputs": [],
   "source": [
    "#Importing required modules to train the ML\n",
    "from sklearn.linear_model import LinearRegression\n",
    "from sklearn.model_selection import train_test_split\n",
    "from sklearn.preprocessing import StandardScaler\n",
    "from sklearn.metrics import recall_score\n",
    "from sklearn.model_selection import cross_val_score\n",
    "from sklearn.model_selection import KFold\n",
    "from sklearn.pipeline import Pipeline\n",
    "from sklearn.model_selection import GridSearchCV\n",
    "\n",
    "#Importing some classificiation algorithms\n",
    "from sklearn.linear_model import LogisticRegression\n",
    "from sklearn.tree import DecisionTreeClassifier\n",
    "from sklearn.svm import LinearSVC\n",
    "from sklearn.ensemble import GradientBoostingClassifier\n",
    "from sklearn.ensemble import RandomForestClassifier\n",
    "from sklearn.neighbors import KNeighborsClassifier"
   ]
  },
  {
   "cell_type": "markdown",
   "id": "59e84595",
   "metadata": {},
   "source": [
    "Since the target variable is categorical and the features are both continuous and categorical, the correlation check method should be regression test. So, let's set our data up for Regression test for feature selection."
   ]
  },
  {
   "cell_type": "code",
   "execution_count": 11,
   "id": "57a2a62c",
   "metadata": {},
   "outputs": [],
   "source": [
    "#Preparing the vectors, splitting train and test data and scaling the features\n",
    "X = data.drop('heart_complications',axis=1)\n",
    "y = data['heart_complications']\n",
    "X_train, X_test, Y_train, Y_test = train_test_split(X,y,test_size=0.3,random_state=6)\n",
    "scaler = StandardScaler()\n",
    "X_train = scaler.fit_transform(X_train)\n",
    "X_test = scaler.fit_transform(X_test)"
   ]
  },
  {
   "cell_type": "code",
   "execution_count": 12,
   "id": "9b5bd972",
   "metadata": {},
   "outputs": [
    {
     "data": {
      "image/png": "[encoded data removed]",
      "text/plain": [
       "<Figure size 432x288 with 1 Axes>"
      ]
     },
     "metadata": {
      "needs_background": "light"
     },
     "output_type": "display_data"
    }
   ],
   "source": [
    "model = LinearRegression()\n",
    "model.fit(X_train,Y_train)\n",
    "importance_values = np.abs(model.coef_)\n",
    "labels = data.columns.drop('heart_complications')\n",
    "feature_selection = pd.DataFrame(np.abs(model.coef_), index=labels, columns=['importance_coefficient']).sort_values('importance_coefficient', ascending=False)\n",
    "feature_selection.plot(kind='bar');"
   ]
  },
  {
   "cell_type": "markdown",
   "id": "9a3532a4",
   "metadata": {},
   "source": [
    "**Model Selection**<br>\n",
    "Now, let's create a pipeline with some classification algorithms and select the best model."
   ]
  },
  {
   "cell_type": "code",
   "execution_count": 13,
   "id": "6d96b2ca",
   "metadata": {},
   "outputs": [
    {
     "name": "stdout",
     "output_type": "stream",
     "text": [
      "LogisticRegression: 0.800886 (0.065098)\n",
      "GradientBoostingClassifier: 0.772425 (0.066910)\n",
      "KNeighborsClassifier: 0.781949 (0.055245)\n",
      "SVC: 0.800775 (0.063600)\n",
      "DecisionTree: 0.696456 (0.060020)\n",
      "RandomForestClassifier: 0.791584 (0.054591)\n"
     ]
    }
   ],
   "source": [
    "pipelines = []\n",
    "pipelines.append(('LogisticRegression', Pipeline([('Scaler', StandardScaler()),('LR',LogisticRegression())])))\n",
    "pipelines.append(('GradientBoostingClassifier', Pipeline([('Scaler', StandardScaler()),('GBC',GradientBoostingClassifier())])))\n",
    "pipelines.append(('KNeighborsClassifier', Pipeline([('Scaler', StandardScaler()),('KNC',KNeighborsClassifier())])))\n",
    "pipelines.append(('SVC', Pipeline([('Scaler', StandardScaler()),('SVC',LinearSVC())])))\n",
    "pipelines.append(('DecisionTree', Pipeline([('Scaler', StandardScaler()),('DT',DecisionTreeClassifier())])))\n",
    "pipelines.append(('RandomForestClassifier', Pipeline([('Scaler', StandardScaler()),('RFC', RandomForestClassifier())])))\n",
    "results = []\n",
    "names = []\n",
    "for name, model in pipelines:\n",
    "    kfold = KFold(n_splits=5, random_state=3,shuffle=True)\n",
    "    cv_results = cross_val_score(model, X_train, Y_train, cv=kfold, scoring='accuracy')\n",
    "    results.append(cv_results)\n",
    "    names.append(name)\n",
    "    msg = \"%s: %f (%f)\" % (name, cv_results.mean(), cv_results.std())\n",
    "    print(msg)"
   ]
  },
  {
   "cell_type": "markdown",
   "id": "76800dd9",
   "metadata": {},
   "source": [
    "Here, LogisticRegression and SVC are showing the best possible score for our dataset. So, lets take Logistic Regression and SVC and work on model accuracy improvement."
   ]
  },
  {
   "cell_type": "markdown",
   "id": "19eb3529",
   "metadata": {},
   "source": [
    "**Logistic Regression**<br>\n"
   ]
  },
  {
   "cell_type": "code",
   "execution_count": 14,
   "id": "31c73b30",
   "metadata": {},
   "outputs": [
    {
     "name": "stdout",
     "output_type": "stream",
     "text": [
      "Logistic Regression\n",
      "\n",
      "Train Data: 0.824645\n",
      "Test Data: 0.879121\n"
     ]
    }
   ],
   "source": [
    "model_1 = LogisticRegression()\n",
    "model_1.fit(X_train,Y_train)\n",
    "print(\"Logistic Regression\\n\")\n",
    "print(\"Train Data: %f\" % model_1.score(X_train,Y_train))\n",
    "print(\"Test Data: %f\" % model_1.score(X_test,Y_test))"
   ]
  },
  {
   "cell_type": "markdown",
   "id": "98225935",
   "metadata": {},
   "source": [
    "Here, Logistic regression has good scores on both Train and Test data. So, there is no problem of overfitting."
   ]
  },
  {
   "cell_type": "markdown",
   "id": "28813497",
   "metadata": {},
   "source": [
    "**Support Vector Machine Classifier**"
   ]
  },
  {
   "cell_type": "code",
   "execution_count": 15,
   "id": "c58acebc",
   "metadata": {},
   "outputs": [
    {
     "name": "stdout",
     "output_type": "stream",
     "text": [
      "Support Vector Machine\n",
      "\n",
      "Train Data: 0.829384\n",
      "Test Data: 0.868132\n"
     ]
    }
   ],
   "source": [
    "model_2 = LinearSVC()\n",
    "model_2.fit(X_train,Y_train)\n",
    "print(\"Support Vector Machine\\n\")\n",
    "print(\"Train Data: %f\" % model_2.score(X_train,Y_train))\n",
    "print(\"Test Data: %f\" % model_2.score(X_test,Y_test))"
   ]
  },
  {
   "cell_type": "markdown",
   "id": "cee8c3b9",
   "metadata": {},
   "source": [
    "Since SVM also performed pretty good and Logistic Regression has evidently slight better performance, we will use Logistic Regression to train our model."
   ]
  },
  {
   "cell_type": "markdown",
   "id": "cf49eaef",
   "metadata": {},
   "source": [
    "**Tuning and Perfecting the Model**<br>\n",
    "From the Regression test we conducted earlier, the features results_ecg , age,and fasting_blood_sugar seem to be less significant. So, lets try to train our model by dropping those columns."
   ]
  },
  {
   "cell_type": "code",
   "execution_count": 16,
   "id": "750246c6",
   "metadata": {},
   "outputs": [],
   "source": [
    "X1 = data.drop(['results_ecg','age','fasting_blood_sugar','heart_complications'],axis=1)\n",
    "Y1 = data['heart_complications']\n",
    "X1_train, X1_test, Y1_train, Y1_test = train_test_split(X1,Y1,test_size=0.3,random_state=6)\n",
    "scaler = StandardScaler()\n",
    "X1_train = scaler.fit_transform(X1_train)\n",
    "X1_test = scaler.fit_transform(X1_test)"
   ]
  },
  {
   "cell_type": "code",
   "execution_count": 17,
   "id": "22e4c5f5",
   "metadata": {},
   "outputs": [
    {
     "name": "stdout",
     "output_type": "stream",
     "text": [
      "Logistic Regression after dropping less significant features:\n",
      "\n",
      "Train Data: 0.829384\n",
      "Test Data: 0.879121\n"
     ]
    }
   ],
   "source": [
    "model_3 = LogisticRegression()\n",
    "model_3.fit(X1_train,Y1_train)\n",
    "print(\"Logistic Regression after dropping less significant features:\\n\")\n",
    "print(\"Train Data: %f\" % model_3.score(X1_train,Y1_train))\n",
    "print(\"Test Data: %f\" % model_3.score(X1_test,Y1_test))"
   ]
  },
  {
   "cell_type": "markdown",
   "id": "d0cf3b35",
   "metadata": {},
   "source": [
    "Our model has slightly improved. Now, lets tune the hyperparameters and create the final model."
   ]
  },
  {
   "cell_type": "code",
   "execution_count": 18,
   "id": "309a07f3",
   "metadata": {},
   "outputs": [
    {
     "name": "stdout",
     "output_type": "stream",
     "text": [
      "Best Score: 0.838760 \n",
      " Best Params: {'C': 0.01, 'penalty': 'l2', 'solver': 'liblinear'}\n"
     ]
    }
   ],
   "source": [
    "final_model_test = LogisticRegression()\n",
    "solvers = ['lbfgs', 'liblinear','newton-cg']\n",
    "cvalues = [100, 50, 30, 20, 10, 1.0, 0.1, 0.01]\n",
    "penalties = ['l1','l2','elasticnet','none']\n",
    "grid = {'C': cvalues,\n",
    "        'penalty': penalties,\n",
    "        'solver': solvers,\n",
    "        }\n",
    "kfold = KFold(n_splits=5, random_state=3,shuffle=True)\n",
    "grid_search = GridSearchCV(estimator=final_model_test, param_grid=grid, cv=kfold, scoring='accuracy')\n",
    "grid_result = grid_search.fit(X1_train, Y1_train)\n",
    "print(\"Best Score: %f \\n Best Params: %s\" % (grid_result.best_score_, grid_result.best_params_))"
   ]
  },
  {
   "cell_type": "code",
   "execution_count": 19,
   "id": "362c21a2",
   "metadata": {},
   "outputs": [
    {
     "data": {
      "text/plain": [
       "0.8791208791208791"
      ]
     },
     "execution_count": 19,
     "metadata": {},
     "output_type": "execute_result"
    }
   ],
   "source": [
    "final_model = LogisticRegression(C=0.01,penalty='l2',solver='liblinear')\n",
    "final_model.fit(X1_train,Y1_train)\n",
    "final_model.score(X1_test,Y1_test)"
   ]
  },
  {
   "cell_type": "code",
   "execution_count": 20,
   "id": "31d6eab6",
   "metadata": {},
   "outputs": [
    {
     "name": "stdout",
     "output_type": "stream",
     "text": [
      "Recall Score: 0.916667\n"
     ]
    }
   ],
   "source": [
    "Y1_predicted = final_model.predict(X1_test)\n",
    "print('Recall Score: %f' % recall_score(Y1_test.values,Y1_predicted))"
   ]
  },
  {
   "cell_type": "markdown",
   "id": "c60caa30",
   "metadata": {},
   "source": [
    "Here, we have a recall score of nearly 92% which is pretty accurate. So, this will be our final model."
   ]
  },
  {
   "cell_type": "markdown",
   "id": "39efdc70",
   "metadata": {},
   "source": [
    "Single Row Prediction"
   ]
  },
  {
   "cell_type": "code",
   "execution_count": 21,
   "id": "a7f1e479",
   "metadata": {},
   "outputs": [
    {
     "data": {
      "text/plain": [
       "'You have 37.39 percentage probablity of having a heart disease.'"
      ]
     },
     "execution_count": 21,
     "metadata": {},
     "output_type": "execute_result"
    }
   ],
   "source": [
    "mean_values = X1.mean().values\n",
    "std_values = X1.std().values\n",
    "def has_risk(array):\n",
    "    array = array.reshape(1,-1)\n",
    "    array = (array-mean_values)/std_values\n",
    "    percentage = (final_model.predict_proba(array).flatten()[0])*100\n",
    "    return 'You have %.2f percentage probablity of having a heart disease.' %percentage\n",
    "has_risk(X1.iloc[6].values)"
   ]
  },
  {
   "cell_type": "code",
   "execution_count": 23,
   "id": "f0ce7f28",
   "metadata": {},
   "outputs": [
    {
     "data": {
      "text/plain": [
       "'You have 76.87 percentage probablity of having a heart disease.'"
      ]
     },
     "execution_count": 23,
     "metadata": {},
     "output_type": "execute_result"
    }
   ],
   "source": [
    "test_array = X1.iloc[200].values\n",
    "has_risk(test_array)"
   ]
  },
  {
   "cell_type": "code",
   "execution_count": 29,
   "id": "2eed0156",
   "metadata": {},
   "outputs": [
    {
     "data": {
      "text/plain": [
       "1"
      ]
     },
     "execution_count": 29,
     "metadata": {},
     "output_type": "execute_result"
    }
   ],
   "source": [
    "final_model.predict(test_array.reshape(1,-1))[0]"
   ]
  },
  {
   "cell_type": "code",
   "execution_count": 30,
   "id": "884feece",
   "metadata": {},
   "outputs": [
    {
     "data": {
      "text/plain": [
       "array([  1. ,   0. , 125. , 258. , 141. ,   1. ,   2.8,   1. ,   1. ,\n",
       "         3. ])"
      ]
     },
     "execution_count": 30,
     "metadata": {},
     "output_type": "execute_result"
    }
   ],
   "source": [
    "test_array"
   ]
  },
  {
   "cell_type": "code",
   "execution_count": 31,
   "id": "57406aad",
   "metadata": {},
   "outputs": [
    {
     "data": {
      "text/html": [
       "<div>\n",
       "<style scoped>\n",
       "    .dataframe tbody tr th:only-of-type {\n",
       "        vertical-align: middle;\n",
       "    }\n",
       "\n",
       "    .dataframe tbody tr th {\n",
       "        vertical-align: top;\n",
       "    }\n",
       "\n",
       "    .dataframe thead th {\n",
       "        text-align: right;\n",
       "    }\n",
       "</style>\n",
       "<table border=\"1\" class=\"dataframe\">\n",
       "  <thead>\n",
       "    <tr style=\"text-align: right;\">\n",
       "      <th></th>\n",
       "      <th>sex</th>\n",
       "      <th>chest_pain_type</th>\n",
       "      <th>rest_blood_pressure</th>\n",
       "      <th>cholesterol</th>\n",
       "      <th>maximum_heart_rate</th>\n",
       "      <th>exercise_induced_angina</th>\n",
       "      <th>st_depression</th>\n",
       "      <th>st_slope</th>\n",
       "      <th>major_vessels</th>\n",
       "      <th>thalassemia_types</th>\n",
       "    </tr>\n",
       "  </thead>\n",
       "  <tbody>\n",
       "    <tr>\n",
       "      <th>0</th>\n",
       "      <td>1</td>\n",
       "      <td>3</td>\n",
       "      <td>145</td>\n",
       "      <td>233</td>\n",
       "      <td>150</td>\n",
       "      <td>0</td>\n",
       "      <td>2.3</td>\n",
       "      <td>0</td>\n",
       "      <td>0</td>\n",
       "      <td>1</td>\n",
       "    </tr>\n",
       "    <tr>\n",
       "      <th>1</th>\n",
       "      <td>1</td>\n",
       "      <td>2</td>\n",
       "      <td>130</td>\n",
       "      <td>250</td>\n",
       "      <td>187</td>\n",
       "      <td>0</td>\n",
       "      <td>3.5</td>\n",
       "      <td>0</td>\n",
       "      <td>0</td>\n",
       "      <td>2</td>\n",
       "    </tr>\n",
       "    <tr>\n",
       "      <th>2</th>\n",
       "      <td>0</td>\n",
       "      <td>1</td>\n",
       "      <td>130</td>\n",
       "      <td>204</td>\n",
       "      <td>172</td>\n",
       "      <td>0</td>\n",
       "      <td>1.4</td>\n",
       "      <td>2</td>\n",
       "      <td>0</td>\n",
       "      <td>2</td>\n",
       "    </tr>\n",
       "    <tr>\n",
       "      <th>3</th>\n",
       "      <td>1</td>\n",
       "      <td>1</td>\n",
       "      <td>120</td>\n",
       "      <td>236</td>\n",
       "      <td>178</td>\n",
       "      <td>0</td>\n",
       "      <td>0.8</td>\n",
       "      <td>2</td>\n",
       "      <td>0</td>\n",
       "      <td>2</td>\n",
       "    </tr>\n",
       "    <tr>\n",
       "      <th>4</th>\n",
       "      <td>0</td>\n",
       "      <td>0</td>\n",
       "      <td>120</td>\n",
       "      <td>354</td>\n",
       "      <td>163</td>\n",
       "      <td>1</td>\n",
       "      <td>0.6</td>\n",
       "      <td>2</td>\n",
       "      <td>0</td>\n",
       "      <td>2</td>\n",
       "    </tr>\n",
       "    <tr>\n",
       "      <th>...</th>\n",
       "      <td>...</td>\n",
       "      <td>...</td>\n",
       "      <td>...</td>\n",
       "      <td>...</td>\n",
       "      <td>...</td>\n",
       "      <td>...</td>\n",
       "      <td>...</td>\n",
       "      <td>...</td>\n",
       "      <td>...</td>\n",
       "      <td>...</td>\n",
       "    </tr>\n",
       "    <tr>\n",
       "      <th>298</th>\n",
       "      <td>0</td>\n",
       "      <td>0</td>\n",
       "      <td>140</td>\n",
       "      <td>241</td>\n",
       "      <td>123</td>\n",
       "      <td>1</td>\n",
       "      <td>0.2</td>\n",
       "      <td>1</td>\n",
       "      <td>0</td>\n",
       "      <td>3</td>\n",
       "    </tr>\n",
       "    <tr>\n",
       "      <th>299</th>\n",
       "      <td>1</td>\n",
       "      <td>3</td>\n",
       "      <td>110</td>\n",
       "      <td>264</td>\n",
       "      <td>132</td>\n",
       "      <td>0</td>\n",
       "      <td>1.2</td>\n",
       "      <td>1</td>\n",
       "      <td>0</td>\n",
       "      <td>3</td>\n",
       "    </tr>\n",
       "    <tr>\n",
       "      <th>300</th>\n",
       "      <td>1</td>\n",
       "      <td>0</td>\n",
       "      <td>144</td>\n",
       "      <td>193</td>\n",
       "      <td>141</td>\n",
       "      <td>0</td>\n",
       "      <td>3.4</td>\n",
       "      <td>1</td>\n",
       "      <td>2</td>\n",
       "      <td>3</td>\n",
       "    </tr>\n",
       "    <tr>\n",
       "      <th>301</th>\n",
       "      <td>1</td>\n",
       "      <td>0</td>\n",
       "      <td>130</td>\n",
       "      <td>131</td>\n",
       "      <td>115</td>\n",
       "      <td>1</td>\n",
       "      <td>1.2</td>\n",
       "      <td>1</td>\n",
       "      <td>1</td>\n",
       "      <td>3</td>\n",
       "    </tr>\n",
       "    <tr>\n",
       "      <th>302</th>\n",
       "      <td>0</td>\n",
       "      <td>1</td>\n",
       "      <td>130</td>\n",
       "      <td>236</td>\n",
       "      <td>174</td>\n",
       "      <td>0</td>\n",
       "      <td>0.0</td>\n",
       "      <td>1</td>\n",
       "      <td>1</td>\n",
       "      <td>2</td>\n",
       "    </tr>\n",
       "  </tbody>\n",
       "</table>\n",
       "<p>302 rows × 10 columns</p>\n",
       "</div>"
      ],
      "text/plain": [
       "     sex  chest_pain_type  rest_blood_pressure  cholesterol  \\\n",
       "0      1                3                  145          233   \n",
       "1      1                2                  130          250   \n",
       "2      0                1                  130          204   \n",
       "3      1                1                  120          236   \n",
       "4      0                0                  120          354   \n",
       "..   ...              ...                  ...          ...   \n",
       "298    0                0                  140          241   \n",
       "299    1                3                  110          264   \n",
       "300    1                0                  144          193   \n",
       "301    1                0                  130          131   \n",
       "302    0                1                  130          236   \n",
       "\n",
       "     maximum_heart_rate  exercise_induced_angina  st_depression  st_slope  \\\n",
       "0                   150                        0            2.3         0   \n",
       "1                   187                        0            3.5         0   \n",
       "2                   172                        0            1.4         2   \n",
       "3                   178                        0            0.8         2   \n",
       "4                   163                        1            0.6         2   \n",
       "..                  ...                      ...            ...       ...   \n",
       "298                 123                        1            0.2         1   \n",
       "299                 132                        0            1.2         1   \n",
       "300                 141                        0            3.4         1   \n",
       "301                 115                        1            1.2         1   \n",
       "302                 174                        0            0.0         1   \n",
       "\n",
       "     major_vessels  thalassemia_types  \n",
       "0                0                  1  \n",
       "1                0                  2  \n",
       "2                0                  2  \n",
       "3                0                  2  \n",
       "4                0                  2  \n",
       "..             ...                ...  \n",
       "298              0                  3  \n",
       "299              0                  3  \n",
       "300              2                  3  \n",
       "301              1                  3  \n",
       "302              1                  2  \n",
       "\n",
       "[302 rows x 10 columns]"
      ]
     },
     "execution_count": 31,
     "metadata": {},
     "output_type": "execute_result"
    }
   ],
   "source": [
    "X1"
   ]
  },
  {
   "cell_type": "code",
   "execution_count": null,
   "id": "8223f45b",
   "metadata": {},
   "outputs": [],
   "source": []
  }
 ],
 "metadata": {
  "kernelspec": {
   "display_name": "Python 3",
   "language": "python",
   "name": "python3"
  },
  "language_info": {
   "codemirror_mode": {
    "name": "ipython",
    "version": 3
   },
   "file_extension": ".py",
   "mimetype": "text/x-python",
   "name": "python",
   "nbconvert_exporter": "python",
   "pygments_lexer": "ipython3",
   "version": "3.9.4"
  }
 },
 "nbformat": 4,
 "nbformat_minor": 5
}
